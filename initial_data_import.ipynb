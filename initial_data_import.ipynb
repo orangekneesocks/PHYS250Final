{
 "cells": [
  {
   "cell_type": "markdown",
   "metadata": {},
   "source": [
    "dogs = 0\n",
    "\n",
    "cats = 1"
   ]
  },
  {
   "cell_type": "code",
   "execution_count": 23,
   "metadata": {},
   "outputs": [],
   "source": [
    "import os\n",
    "import cv2\n",
    "import numpy as np\n",
    "import matplotlib.pyplot as plt\n",
    "import pickle"
   ]
  },
  {
   "cell_type": "code",
   "execution_count": 2,
   "metadata": {
    "scrolled": true
   },
   "outputs": [],
   "source": [
    "data = []\n",
    "dog_dir = 'Data/PetImages/Dog/'\n",
    "cat_dir = 'Data/PetImages/Cat/'\n",
    "\n",
    "size = 100\n",
    "\n",
    "m = 1\n",
    "# the dogs!\n",
    "for img_file in os.listdir(dog_dir):\n",
    "    path = os.path.join(dog_dir, img_file)\n",
    "    img = cv2.imread(path)\n",
    "#     img = cv2.cvtColor(img, cv2.COLOR_BGR2RGB)\n",
    "#     img = cv2.resize(img, (size, size))\n",
    "    data.append([np.array(img), 0]) # dogs are 0!\n",
    "    \n",
    "for img_file in os.listdir(cat_dir):\n",
    "    path = os.path.join(cat_dir, img_file)\n",
    "    img = cv2.imread(path)\n",
    "#     img = cv2.cvtColor(img, cv2.COLOR_BGR2RGB)\n",
    "#     img = cv2.resize(img, (size, size))\n",
    "    data.append([np.array(img), 1]) # cats are 1!"
   ]
  },
  {
   "cell_type": "code",
   "execution_count": 16,
   "metadata": {},
   "outputs": [],
   "source": [
    "for i, instance in enumerate(data):\n",
    "    if instance[0].all() == None:\n",
    "        data.pop(i)"
   ]
  },
  {
   "cell_type": "code",
   "execution_count": 24,
   "metadata": {},
   "outputs": [],
   "source": [
    "outfile = open('catsVdogs.pickle','wb')\n",
    "pickle.dump(data,outfile)\n",
    "outfile.close()"
   ]
  }
 ],
 "metadata": {
  "kernelspec": {
   "display_name": "Python 3",
   "language": "python",
   "name": "python3"
  },
  "language_info": {
   "codemirror_mode": {
    "name": "ipython",
    "version": 3
   },
   "file_extension": ".py",
   "mimetype": "text/x-python",
   "name": "python",
   "nbconvert_exporter": "python",
   "pygments_lexer": "ipython3",
   "version": "3.6.4"
  }
 },
 "nbformat": 4,
 "nbformat_minor": 2
}
