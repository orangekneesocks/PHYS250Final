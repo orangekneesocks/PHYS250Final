{
 "cells": [
  {
   "cell_type": "code",
   "execution_count": 1,
   "metadata": {
    "scrolled": true
   },
   "outputs": [
    {
     "name": "stderr",
     "output_type": "stream",
     "text": [
      "c:\\users\\tdhar\\anaconda3\\lib\\site-packages\\h5py\\__init__.py:36: FutureWarning: Conversion of the second argument of issubdtype from `float` to `np.floating` is deprecated. In future, it will be treated as `np.float64 == np.dtype(float).type`.\n",
      "  from ._conv import register_converters as _register_converters\n"
     ]
    }
   ],
   "source": [
    "import numpy as np\n",
    "import cv2\n",
    "import matplotlib.pyplot as plt\n",
    "import pickle\n",
    "from image_transformations import img_trans\n",
    "import random\n",
    "import tensorflow as tf\n",
    "\n",
    "mnist = tf.keras.datasets.mnist"
   ]
  },
  {
   "cell_type": "code",
   "execution_count": 2,
   "metadata": {},
   "outputs": [],
   "source": [
    "(X_train, y_train),(X_test, y_test) = mnist.load_data()"
   ]
  },
  {
   "cell_type": "code",
   "execution_count": 3,
   "metadata": {},
   "outputs": [],
   "source": [
    "def up_dwn_brightness(data1, data2, data3, scale):\n",
    "    new_x_train  = []\n",
    "    new_x_test   = []\n",
    "    new_y_train  = []\n",
    "    new_y_test   = []\n",
    "    \n",
    "    for image in data1:\n",
    "        up_dwn_data.append(image)\n",
    "        \n",
    "    for image in data2:\n",
    "        value_change = random.randint(0,int(round(255*scale)))   \n",
    "\n",
    "        up_lim = 255 - value_change\n",
    "        image[0][image[0] > up_lim] = 255\n",
    "        image[0][image[0] <= up_lim] += value_change\n",
    "        \n",
    "        up_dwn_data.append(image)\n",
    "        \n",
    "    for image in data3:\n",
    "        value_change = random.randint(0,int(round(255*scale)))   \n",
    "\n",
    "        image[0][image[0] < value_change] = 0\n",
    "        image[0][image[0] >= value_change] -= value_change\n",
    "        \n",
    "        up_dwn_data.append(image)\n",
    "\n",
    "    return up_dwn_data"
   ]
  },
  {
   "cell_type": "code",
   "execution_count": 4,
   "metadata": {},
   "outputs": [],
   "source": [
    "\"\"\"\n",
    "Things we care about:\n",
    "brightness, rotation, blur\n",
    "\n",
    "What this results is a dataset that is three times the size: it is the original dataset with an extra image up and down.\n",
    "\"\"\"\n",
    "def up_dwn(x, y, parameter, scale):\n",
    "    new_x  = []\n",
    "    new_y  = []\n",
    "\n",
    "    for img, label in zip(x, y):\n",
    "        \n",
    "        if parameter == 'rotation':\n",
    "            new_x.append(img)\n",
    "            \n",
    "            value_change = random.randint(0,int(round(180*scale)))\n",
    "\n",
    "            up_img = img_trans(img).change_angle(value_change)\n",
    "            dwn_img = img_trans(img).change_angle(-value_change)\n",
    "            \n",
    "            new_x.append(up_img)\n",
    "            new_x.append(dwn_img)  \n",
    "            \n",
    "            new_y += 3 * [label]\n",
    "\n",
    "        if parameter == 'blur':\n",
    "            new_x.append(img)\n",
    "\n",
    "            value_change  = random.randrange(3, 9, 2)\n",
    "            sigma1        = random.randrange(3, 9, 2)\n",
    "            value_change2 = random.randrange(3, 9, 2)\n",
    "            sigma2        = random.randrange(3, 9, 2)\n",
    "            \n",
    "            \n",
    "            img1 = img_trans(img).gaussian_blur(value_change,sigma1)\n",
    "            img2 = img_trans(img).gaussian_blur(value_change2,sigma2)\n",
    "            \n",
    "            new_x.append(img1)\n",
    "            new_x.append(img2)  \n",
    "            \n",
    "            new_y += 3 * [label]           \n",
    "    \n",
    "    \n",
    "    return np.array(new_x), np.array(new_y)"
   ]
  },
  {
   "cell_type": "code",
   "execution_count": 7,
   "metadata": {
    "scrolled": true
   },
   "outputs": [],
   "source": [
    "parameter_list = ['rotation', 'blur']\n",
    "scale_list = [.33,.67,1]\n",
    "\n",
    "for parameter_in in parameter_list:\n",
    "    for scale_in in scale_list:\n",
    "        NAME = 'mnist_{}_{}.pickle'.format(parameter_in, str(scale_in))\n",
    "        \n",
    "        new_X_train, new_y_train = up_dwn(X_train, y_train,\n",
    "                                          parameter = parameter_in,\n",
    "                                          scale = scale_in)\n",
    "        \n",
    "        new_X_test, new_y_test = up_dwn(X_test, y_test,\n",
    "                                        parameter = parameter_in,\n",
    "                                        scale = scale_in) \n",
    "        \n",
    "        total = [new_X_train, new_y_train, new_X_test, new_y_test]\n",
    "        \n",
    "        outfile = open(NAME, 'wb')\n",
    "        pickle.dump(total, outfile)\n",
    "        outfile.close()"
   ]
  }
 ],
 "metadata": {
  "kernelspec": {
   "display_name": "Python 3",
   "language": "python",
   "name": "python3"
  },
  "language_info": {
   "codemirror_mode": {
    "name": "ipython",
    "version": 3
   },
   "file_extension": ".py",
   "mimetype": "text/x-python",
   "name": "python",
   "nbconvert_exporter": "python",
   "pygments_lexer": "ipython3",
   "version": "3.6.4"
  }
 },
 "nbformat": 4,
 "nbformat_minor": 2
}
